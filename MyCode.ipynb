{
 "cells": [
  {
   "cell_type": "code",
   "execution_count": 82,
   "metadata": {},
   "outputs": [],
   "source": [
    "from itertools import permutations\n",
    "import random\n",
    "from copy import deepcopy"
   ]
  },
  {
   "cell_type": "code",
   "execution_count": 2,
   "metadata": {},
   "outputs": [],
   "source": [
    "##############################################\n",
    "### OFFLINE EVALUATION\n",
    "##############################################\n",
    "\n",
    "def compute_ERR(list):\n",
    "    \"\"\"\n",
    "    Outputs the ERR measure of the rankinglist ([doc_id1, doc_id2, doc_id3]).\n",
    "    \"\"\"\n",
    "    ERR = 0\n",
    "    for r in range(len(list)):\n",
    "        theta_r = compute_click_probability(get_relevance(list[r]))\n",
    "        prod = 1\n",
    "        for i in range(r):\n",
    "            prod *= (1-compute_click_probability(get_relevance(list[i])))\n",
    "        ERR += prod*theta_r*1/(r+1)\n",
    "    return ERR"
   ]
  },
  {
   "cell_type": "code",
   "execution_count": 3,
   "metadata": {},
   "outputs": [],
   "source": [
    "def compute_click_probability(rel):\n",
    "    \"\"\"\n",
    "    Outputs the click-probability theta.\n",
    "    \"\"\"\n",
    "    rel_max = 1\n",
    "    return (2**rel - 1)/2**rel_max"
   ]
  },
  {
   "cell_type": "code",
   "execution_count": 4,
   "metadata": {},
   "outputs": [],
   "source": [
    "def create_ranking_pairs():\n",
    "    \"\"\"\n",
    "    TODO: maybe we want to exclude some pairs?\n",
    "    Outputs a list of tuples with all possible ranking pairs from a pool of 12 document ids.\n",
    "    \"\"\"\n",
    "    list_of_pairs = []\n",
    "    perm = list(permutations(range(12),3))\n",
    "    for i in perm:\n",
    "        for j in perm:\n",
    "            pair = (list(i),list(j))\n",
    "            list_of_pairs.append(pair)\n",
    "    return list_of_pairs"
   ]
  },
  {
   "cell_type": "code",
   "execution_count": 5,
   "metadata": {},
   "outputs": [],
   "source": [
    "def get_relevance(doc):\n",
    "    \"\"\"\n",
    "    Outputs the relevance of the document, given as integer.\n",
    "    \"\"\"\n",
    "    if (doc<0 or doc>11):\n",
    "        raise Exception('Document id should be from 0 to 12!')\n",
    "\n",
    "    if doc<6:\n",
    "        return 0\n",
    "    else:\n",
    "        return 1"
   ]
  },
  {
   "cell_type": "code",
   "execution_count": 6,
   "metadata": {},
   "outputs": [],
   "source": [
    "def divide_pairs_over_bins(list_pairs):\n",
    "    \"\"\"\n",
    "    Divides a list of pairs over 10 bins according to the delta ERR.\n",
    "    \"\"\"\n",
    "    dERRs = [[] for i in range(10)]\n",
    "    for i in list_pairs:\n",
    "        deltaERR = compute_ERR(i[0]) - compute_ERR(i[1])\n",
    "        #Keep all the positive delta ERRs and put them in the respective bin\n",
    "        if deltaERR > 0:\n",
    "            if deltaERR < 0.1:\n",
    "                dERRs[0].append(i)\n",
    "            else:\n",
    "                bin = str(deltaERR*10)\n",
    "                dERRs[int(bin[0])].append(i)\n",
    "    return dERRs"
   ]
  },
  {
   "cell_type": "code",
   "execution_count": 7,
   "metadata": {},
   "outputs": [],
   "source": [
    "pairs = create_ranking_pairs() #list of all distinct ranking pairs"
   ]
  },
  {
   "cell_type": "code",
   "execution_count": 8,
   "metadata": {},
   "outputs": [],
   "source": [
    "deltaERRs = divide_pairs_over_bins(pairs) #list of all pairs (tuples of two lists) divided over the 10 bins"
   ]
  },
  {
   "cell_type": "code",
   "execution_count": 15,
   "metadata": {},
   "outputs": [],
   "source": [
    "def coin_to_ranker(cointoss):\n",
    "    if (cointoss == 0):\n",
    "        return \"E\"\n",
    "    if (cointoss == 1):\n",
    "        return \"P\"\n",
    "    else:\n",
    "        raise Exception('This number should be either 0 or 1!')"
   ]
  },
  {
   "cell_type": "code",
   "execution_count": 62,
   "metadata": {},
   "outputs": [],
   "source": [
    "## For testing purposes:\n",
    "#lst = [7, 8, 9]\n",
    "#print(compute_ERR(lst))\n",
    "\n",
    "#print(divide_pairs_over_bins([([3,5,7],[1,2,3]),([6,8,11],[3,2,0]),([3,5,8],[1,2,3])]))\n",
    "\n",
    "##############################################\n",
    "### ONLINE EVALUATION\n",
    "##############################################\n",
    "\n",
    "## Interleaving\n",
    "def td_interleave(pair):\n",
    "    # Writing the pair as a list makes it mutable, which makes the rest easier to code.\n",
    "    # If we do not want the original pair to be changed, we need to do a deepcopy\n",
    "    new_pair = deepcopy(list([pair[0], pair[1]]))\n",
    "    result = []\n",
    "    for i in range(3):\n",
    "        cointoss = random.randint(0, 1)\n",
    "        result += [(new_pair[cointoss][0], coin_to_ranker(cointoss))]\n",
    "        if (new_pair[cointoss][0] in new_pair[1 - cointoss]):\n",
    "            new_pair[1 - cointoss].remove(new_pair[cointoss][0])\n",
    "        new_pair[cointoss] = new_pair[cointoss][1:]\n",
    "    return result"
   ]
  },
  {
   "cell_type": "code",
   "execution_count": 123,
   "metadata": {},
   "outputs": [],
   "source": [
    "# The softmax takes the rank of a document as well as the maximal rank and returns\n",
    "# the probability of choosing that document\n",
    "def softmax(r, max_r):\n",
    "    tau = 3\n",
    "    ranks = range(1,max_r+1)\n",
    "    normalizer = sum([rank**(-tau) for rank in ranks])\n",
    "    return r**(-tau)/normalizer"
   ]
  },
  {
   "cell_type": "code",
   "execution_count": 181,
   "metadata": {},
   "outputs": [],
   "source": [
    "def pr_interleave(pair):\n",
    "    # Writing the pair as a list makes it mutable, which makes the rest easier to code.\n",
    "    # If we do not want the original pair to be changed, we need to do a deepcopy\n",
    "    new_pair = deepcopy(list([pair[0], pair[1]]))\n",
    "    result = []\n",
    "    sm = [[],[]]\n",
    "    sm[0] = [softmax(r, 3) for r in range(1, 4)]\n",
    "    sm[1] = [softmax(r, 3) for r in range(1, 4)]\n",
    "    population = [[0, 1, 2], [0, 1, 2]]\n",
    "    for i in range(3):\n",
    "        cointoss = random.randint(0, 1)\n",
    "        index = random.choices(population[cointoss], sm[cointoss])[0]\n",
    "        sm[cointoss][index] = 0\n",
    "        result += [(new_pair[cointoss][index], coin_to_ranker(cointoss))]\n",
    "        for j in range(3):\n",
    "            if (new_pair[cointoss][index] == new_pair[1 - cointoss][j]):\n",
    "                sm[1 - cointoss][j] = 0       \n",
    "    return result"
   ]
  },
  {
   "cell_type": "code",
   "execution_count": null,
   "metadata": {},
   "outputs": [],
   "source": [
    "## Simulating user clicks\n",
    "def em():\n",
    "    \"\"\"\n",
    "    TODO\n",
    "    Expectation-maximization method for determining the parameters alpha and gamma, using training data.\n",
    "    \"\"\"\n",
    "    # Use this: https://github.com/markovi/PyClick/blob/master/pyclick/utils/YandexRelPredChallengeParser.py to understand what is going on\n",
    "    # https://www.kaggle.com/c/yandex-personalized-web-search-challenge#logs-format\n",
    "    return (alpha,gamma)\n",
    "\n",
    "def click_probabilities():\n",
    "    \"\"\"\n",
    "    TODO\n",
    "    Returns a list of click-probabilities for each document in a ranking list.\n",
    "    \"\"\"\n",
    "    return []\n",
    "\n",
    "def produce_clicks(list):\n",
    "    \"\"\"\n",
    "    TODO\n",
    "    Outputs a list of clicks for a list (1 is click, 0 is no click).\n",
    "    \"\"\"\n",
    "    probabilities = click_probabilities(list)\n",
    "    return []\n",
    "\n",
    "def produce_clicks_random(list):\n",
    "    \"\"\"\n",
    "    TODO\n",
    "    Outputs a list of clicks using a Random Click Model.\n",
    "    \"\"\"\n",
    "\n",
    "def decide_winner(list):\n",
    "    \"\"\"\n",
    "    TODO\n",
    "    Takes as input a pair of ranking lists. E.g. of the form [(doc_id1,\"E\"),(doc_id2,\"P\"),(doc_id3,\"E\")].\n",
    "    \"\"\"\n",
    "    produce_clicks(list)\n",
    "    return []\n",
    "\n",
    "yandex_log = 0 # Variable containing the click log we use for determining the parameters alpha and gamma\n",
    "\n",
    "## Simulation of Interleaving Experiment\n",
    "\n",
    "def estimate_win_proportion(ranking_pair):\n",
    "    \"\"\"\n",
    "    TODO\n",
    "    Runs interleaving experiment k times for each pair in ranking_pairs.\n",
    "    \"\"\"\n",
    "    k = 500\n",
    "    proportion = 0\n",
    "    for i in range(k):\n",
    "        # interleave\n",
    "        # click simulation\n",
    "        print(\"Please implement me first!\")\n",
    "    return compute_sample_size(proportion)\n",
    "\n",
    "def compute_sample_size(p1):\n",
    "    \"\"\"\n",
    "    TODO\n",
    "    Computes the sample size with as input a proportion.\n",
    "    \"\"\"\n",
    "    alpha = 0.05\n",
    "    beta = 0.1\n",
    "    p0 = 0.5\n",
    "    delta = abs(p1-p0)\n",
    "    return 0\n",
    "\n",
    "def run_interleaving_experiment(ranking_pairs):\n",
    "    \"\"\"\n",
    "    TODO\n",
    "    Runs the interleaving experiment for each ranking pair in ranking_pairs.\n",
    "    This function puts the estimated samples sizes in the right binself.\n",
    "    Returns a list for each bin a tuple (min,median,max)."
   ]
  }
 ],
 "metadata": {
  "kernelspec": {
   "display_name": "Python 3",
   "language": "python",
   "name": "python3"
  },
  "language_info": {
   "codemirror_mode": {
    "name": "ipython",
    "version": 3
   },
   "file_extension": ".py",
   "mimetype": "text/x-python",
   "name": "python",
   "nbconvert_exporter": "python",
   "pygments_lexer": "ipython3",
   "version": "3.7.0"
  }
 },
 "nbformat": 4,
 "nbformat_minor": 2
}
