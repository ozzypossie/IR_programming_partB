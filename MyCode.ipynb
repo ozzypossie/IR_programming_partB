{
 "cells": [
  {
   "cell_type": "code",
   "execution_count": 1,
   "metadata": {},
   "outputs": [],
   "source": [
    "from itertools import permutations\n",
    "import random\n",
    "from copy import deepcopy\n",
    "import numpy as np\n",
    "from scipy.stats import norm\n",
    "import math\n",
    "import statistics"
   ]
  },
  {
   "cell_type": "code",
   "execution_count": 2,
   "metadata": {},
   "outputs": [],
   "source": [
    "##############################################\n",
    "### OFFLINE EVALUATION\n",
    "##############################################\n",
    "\n",
    "def compute_ERR(list):\n",
    "    \"\"\"\n",
    "    Outputs the ERR measure of the rankinglist ([doc_id1, doc_id2, doc_id3]).\n",
    "    \"\"\"\n",
    "    ERR = 0\n",
    "    for r in range(len(list)):\n",
    "        theta_r = compute_click_probability(get_relevance(list[r]))\n",
    "        prod = 1\n",
    "        for i in range(r):\n",
    "            prod *= (1-compute_click_probability(get_relevance(list[i])))\n",
    "        ERR += prod*theta_r*1/(r+1)\n",
    "    return ERR"
   ]
  },
  {
   "cell_type": "code",
   "execution_count": 3,
   "metadata": {},
   "outputs": [],
   "source": [
    "def compute_click_probability(rel):\n",
    "    \"\"\"\n",
    "    Outputs the click-probability theta.\n",
    "    \"\"\"\n",
    "    rel_max = 1\n",
    "    return (2**rel - 1)/2**rel_max"
   ]
  },
  {
   "cell_type": "code",
   "execution_count": 4,
   "metadata": {},
   "outputs": [],
   "source": [
    "def create_ranking_pairs():\n",
    "    \"\"\"\n",
    "    TODO: maybe we want to exclude some pairs?\n",
    "    Outputs a list of tuples with all possible ranking pairs from a pool of 12 document ids.\n",
    "    \"\"\"\n",
    "    list_of_pairs = []\n",
    "    perm = list(permutations(range(12),3))\n",
    "    for i in perm:\n",
    "        for j in perm:\n",
    "            pair = (list(i),list(j))\n",
    "            list_of_pairs.append(pair)\n",
    "    return list_of_pairs"
   ]
  },
  {
   "cell_type": "code",
   "execution_count": 5,
   "metadata": {},
   "outputs": [],
   "source": [
    "def get_relevance(doc):\n",
    "    \"\"\"\n",
    "    Outputs the relevance of the document, given as integer.\n",
    "    \"\"\"\n",
    "    if (doc<0 or doc>11):\n",
    "        raise Exception('Document id should be from 0 to 12!')\n",
    "\n",
    "    if doc<6:\n",
    "        return 0\n",
    "    else:\n",
    "        return 1\n",
    "    \n",
    "def get_relevance_list(docs):\n",
    "    return [get_relevance(doc) for doc in docs]"
   ]
  },
  {
   "cell_type": "code",
   "execution_count": 6,
   "metadata": {},
   "outputs": [],
   "source": [
    "def divide_pairs_over_bins(list_pairs):\n",
    "    \"\"\"\n",
    "    Divides a list of pairs over 10 bins according to the delta ERR.\n",
    "    \"\"\"\n",
    "    dERRs = [[] for i in range(10)]\n",
    "    for i in list_pairs:\n",
    "        deltaERR = compute_ERR(i[0]) - compute_ERR(i[1])\n",
    "        #Keep all the positive delta ERRs and put them in the respective bin\n",
    "        if deltaERR > 0:\n",
    "            if deltaERR < 0.1:\n",
    "                dERRs[0].append(i)\n",
    "            else:\n",
    "                bin = str(deltaERR*10)\n",
    "                dERRs[int(bin[0])].append(i)\n",
    "    return dERRs"
   ]
  },
  {
   "cell_type": "code",
   "execution_count": 7,
   "metadata": {},
   "outputs": [],
   "source": [
    "pairs = create_ranking_pairs() #list of all distinct ranking pairs"
   ]
  },
  {
   "cell_type": "code",
   "execution_count": 8,
   "metadata": {},
   "outputs": [],
   "source": [
    "deltaERRs = divide_pairs_over_bins(pairs) #list of all pairs (tuples of two lists) divided over the 10 bins"
   ]
  },
  {
   "cell_type": "code",
   "execution_count": 9,
   "metadata": {},
   "outputs": [],
   "source": [
    "def coin_to_ranker(cointoss):\n",
    "    if (cointoss == 0):\n",
    "        return \"E\"\n",
    "    if (cointoss == 1):\n",
    "        return \"P\"\n",
    "    else:\n",
    "        raise Exception('This number should be either 0 or 1!')"
   ]
  },
  {
   "cell_type": "code",
   "execution_count": 10,
   "metadata": {},
   "outputs": [],
   "source": [
    "## For testing purposes:\n",
    "#lst = [7, 8, 9]\n",
    "#print(compute_ERR(lst))\n",
    "\n",
    "#print(divide_pairs_over_bins([([3,5,7],[1,2,3]),([6,8,11],[3,2,0]),([3,5,8],[1,2,3])]))\n",
    "\n",
    "##############################################\n",
    "### ONLINE EVALUATION\n",
    "##############################################\n",
    "\n",
    "## Interleaving\n",
    "def td_interleave(pair):\n",
    "    # Writing the pair as a list makes it mutable, which makes the rest easier to code.\n",
    "    # If we do not want the original pair to be changed, we need to do a deepcopy\n",
    "    new_pair = deepcopy(list([pair[0], pair[1]]))\n",
    "    result = []\n",
    "    for i in range(3):\n",
    "        cointoss = random.randint(0, 1)\n",
    "        result += [(new_pair[cointoss][0], coin_to_ranker(cointoss))]\n",
    "        if (new_pair[cointoss][0] in new_pair[1 - cointoss]):\n",
    "            new_pair[1 - cointoss].remove(new_pair[cointoss][0])\n",
    "        new_pair[cointoss] = new_pair[cointoss][1:]\n",
    "    return result"
   ]
  },
  {
   "cell_type": "code",
   "execution_count": 11,
   "metadata": {},
   "outputs": [],
   "source": [
    "# The softmax takes the rank of a document as well as the maximal rank and returns\n",
    "# the probability of choosing that document\n",
    "def softmax(r, max_r):\n",
    "    tau = 3\n",
    "    ranks = range(1,max_r+1)\n",
    "    normalizer = sum([rank**(-tau) for rank in ranks])\n",
    "    return r**(-tau)/normalizer"
   ]
  },
  {
   "cell_type": "code",
   "execution_count": 12,
   "metadata": {},
   "outputs": [],
   "source": [
    "def pr_interleave(pair):\n",
    "    # Writing the pair as a list makes it mutable, which makes the rest easier to code.\n",
    "    # If we do not want the original pair to be changed, we need to do a deepcopy\n",
    "    new_pair = deepcopy(list([pair[0], pair[1]]))\n",
    "    result = []\n",
    "    sm = [[],[]]\n",
    "    sm[0] = [softmax(r, 3) for r in range(1, 4)]\n",
    "    sm[1] = [softmax(r, 3) for r in range(1, 4)]\n",
    "    population = [[0, 1, 2], [0, 1, 2]]\n",
    "    for i in range(3):\n",
    "        cointoss = random.randint(0, 1)\n",
    "        index = random.choices(population[cointoss], sm[cointoss])[0]\n",
    "        sm[cointoss][index] = 0\n",
    "        result += [(new_pair[cointoss][index], coin_to_ranker(cointoss))]\n",
    "        for j in range(3):\n",
    "            if (new_pair[cointoss][index] == new_pair[1 - cointoss][j]):\n",
    "                sm[1 - cointoss][j] = 0       \n",
    "    return result"
   ]
  },
  {
   "cell_type": "code",
   "execution_count": 13,
   "metadata": {},
   "outputs": [],
   "source": [
    "## Simulating user clicks\n",
    "def yandex_log_parser():\n",
    "    \"\"\"\n",
    "    This function parses the Yandex Click Log File and yields which ranks are clicked in a session.\n",
    "    \"\"\"\n",
    "    sessionID = 0\n",
    "    links = [-1 for i in range(10)] #dummy list\n",
    "    clicks = [0 for i in range(10)]\n",
    "    list_clicks = []\n",
    "    with open(\"YandexRelPredChallenge.txt\") as f:\n",
    "        for line in f:\n",
    "            words = line.split()\n",
    "            sessionID_old = sessionID\n",
    "            sessionID = int(words[0])\n",
    "            if sessionID>sessionID_old:\n",
    "                list_clicks.append(clicks)\n",
    "                clicks = [0 for i in range(10)]\n",
    "            recordType = words[2]\n",
    "            if recordType==\"Q\":\n",
    "                links = [int(l) for l in words[5:]]\n",
    "            elif recordType==\"C\":\n",
    "                link_clicked = int(words[3])\n",
    "                if link_clicked in links:\n",
    "                    rank_clicked = links.index(link_clicked)\n",
    "                    clicks[rank_clicked] =1\n",
    "    return(list_clicks)"
   ]
  },
  {
   "cell_type": "code",
   "execution_count": 14,
   "metadata": {},
   "outputs": [],
   "source": [
    "def em():\n",
    "    \"\"\"\n",
    "    TODO: check whether it is correct\n",
    "    Expectation-maximization method for determining the parameters alpha and gamma, using training data.\n",
    "    Using the update rules from: https://clickmodels.weebly.com/uploads/5/2/2/5/52257029/mc2015-clickmodels.pdf\n",
    "    \"\"\"\n",
    "    # Use this: https://github.com/markovi/PyClick/blob/master/pyclick/utils/YandexRelPredChallengeParser.py to understand what is going on\n",
    "    # https://www.kaggle.com/c/yandex-personalized-web-search-challenge#logs-format\n",
    "    gamma = [0.5 for x in range(10)] #book\n",
    "    alpha = 0.2 #book, initial probability clicked if not relevant\n",
    "    tolerance = 0.01\n",
    "    max_iter = 100\n",
    "    click_log = yandex_log_parser()\n",
    "    for i in range(max_iter):\n",
    "        total = [1 for x in range(10)]\n",
    "        for j in click_log:\n",
    "            for rank in range(len(j)):\n",
    "                gamma_value = gamma[rank]/total[rank]\n",
    "                alpha_value = alpha/sum(total)\n",
    "                if j[rank]==1:\n",
    "                    gamma[rank] += 1\n",
    "                    alpha += 1\n",
    "                else:\n",
    "                    alpha += (1-gamma_value)*alpha_value/(1-gamma_value*alpha_value)\n",
    "                    gamma[rank] += (1-alpha_value)*gamma_value/(1-gamma_value*alpha_value)\n",
    "                total[rank] += 1\n",
    "        # New alpha and gamma\n",
    "        alpha = alpha/sum(total)\n",
    "        for x in range(len(gamma)):\n",
    "            gamma[x] = gamma[x]/total[x]\n",
    "    return (alpha,gamma)"
   ]
  },
  {
   "cell_type": "code",
   "execution_count": 15,
   "metadata": {},
   "outputs": [],
   "source": [
    "(alpha,gamma) = em()"
   ]
  },
  {
   "cell_type": "code",
   "execution_count": 16,
   "metadata": {},
   "outputs": [],
   "source": [
    "theta = 0.5"
   ]
  },
  {
   "cell_type": "code",
   "execution_count": 17,
   "metadata": {},
   "outputs": [
    {
     "name": "stdout",
     "output_type": "stream",
     "text": [
      "0.5153349591804152 [1.0, 1.0, 0.7827273817329445, 0.6039110707434906, 0.4478730151477848, 0.3901581322301723, 0.34738501037066255, 0.3231173617327105, 0.30932417965860853, 0.31685576254851017]\n"
     ]
    }
   ],
   "source": [
    "print(alpha, gamma)"
   ]
  },
  {
   "cell_type": "code",
   "execution_count": 18,
   "metadata": {},
   "outputs": [],
   "source": [
    "# It takes a ranked list l of relevance scores, and parameters alpha and gamma\n",
    "# and outputs the probabilities that different elements are clicked in the end\n",
    "def click_probabilities(l, alpha, gamma):\n",
    "    return [abs(alpha - (1 - l[i]))*gamma[i] for i in range(3)]"
   ]
  },
  {
   "cell_type": "code",
   "execution_count": 19,
   "metadata": {},
   "outputs": [
    {
     "name": "stdout",
     "output_type": "stream",
     "text": [
      "[0.48466504081958484, 0.48466504081958484, 0.37936059841820435]\n"
     ]
    }
   ],
   "source": [
    "l = [0, 0, 0]\n",
    "print(click_probabilities(l, alpha, gamma))"
   ]
  },
  {
   "cell_type": "code",
   "execution_count": 20,
   "metadata": {},
   "outputs": [],
   "source": [
    "# Takes a list of relevance scores and parameters, and returns for each position whether it is clicked or not\n",
    "# 1 means a click.\n",
    "def produce_clicks(list, alpha, gamma):\n",
    "    probabilities = click_probabilities(list, alpha, gamma)    \n",
    "    return [np.random.binomial(1, probabilities[i]) for i in range(3)]"
   ]
  },
  {
   "cell_type": "code",
   "execution_count": 21,
   "metadata": {},
   "outputs": [],
   "source": [
    "# Based on a click-probability theta, clicks are completely random here.\n",
    "def produce_clicks_random(list, theta):\n",
    "    return [np.random.binomial(1, theta) for i in range(3)]"
   ]
  },
  {
   "cell_type": "code",
   "execution_count": 42,
   "metadata": {},
   "outputs": [],
   "source": [
    "# Takes an interleaved list and a click pattern and returns the winner\n",
    "def decide_winner(interl, clicks):\n",
    "    clicks_E = 0\n",
    "    clicks_P = 0\n",
    "    for i in range(3):\n",
    "        if (clicks[i] == 1):\n",
    "            if (interl[i][1] == \"E\"):\n",
    "                clicks_E += 1\n",
    "            elif (interl[i][1] == \"P\"):\n",
    "                clicks_P += 1\n",
    "    if (clicks_E > clicks_P):\n",
    "        return \"E\"\n",
    "    elif (clicks_E < clicks_P):\n",
    "        return \"P\"\n",
    "    else:\n",
    "        return \"NW\"\n",
    "    \n",
    "# Returns winner of probabilistic interleaving according to the marginalised estimate\n",
    "# Note that the probability of an assignment given an interleaved list is proportional\n",
    "# to the probability of a list given an assignment, and thus only the latter is computed\n",
    "def decide_winner_marg(interl, ranking_pair, clicks):\n",
    "    prob_win = [0,0] # unnormalised 'probability' that system 0 or 1 wins\n",
    "    \n",
    "    # loop over assignments\n",
    "    for assignment in [[a,b,c] \n",
    "                       for a in [0,1] \n",
    "                       for b in [0,1] \n",
    "                       for c in [0,1]]:\n",
    "        prob_list = 1 # probability of interleaved list given assignment\n",
    "        click_count = [0,0] # count how often each system's docs are clicked\n",
    "        sm = [[softmax(r, 3) for r in range(1, 4)], \n",
    "              [softmax(r, 3) for r in range(1, 4)]]\n",
    "        \n",
    "        # loop over list positions\n",
    "        for i in range(3):\n",
    "            doc = interl[i][0]\n",
    "            ass = assignment[i]\n",
    "            cli = clicks[i]\n",
    "            # count clicks\n",
    "            click_count[ass] += cli\n",
    "            # compute probability of list given assignment\n",
    "            if doc not in ranking_pair[ass]:\n",
    "                prob_list = 0\n",
    "            else:\n",
    "                index = ranking_pair[ass].index(doc)\n",
    "                prob_list *= sm[ass][index]\n",
    "                sm[ass][index] = 0\n",
    "                sum_sm = sum(sm[ass])\n",
    "                if sum_sm != 0:\n",
    "                    sm[ass] = [s/sum_sm for s in sm[ass]]\n",
    "            \n",
    "        # assign win probability to appropriate system\n",
    "        if click_count[0] != click_count[1]: # not a tie\n",
    "            prob_win[click_count[1] > click_count[0]] += prob_list\n",
    "        \n",
    "#         print(assignment, prob_list)\n",
    "#     print(prob_win)\n",
    "    # return winner\n",
    "    if (prob_win[1] > prob_win[0]):\n",
    "        return \"E\"\n",
    "    elif (prob_win[1] < prob_win[0]):\n",
    "        return \"P\"\n",
    "    else:\n",
    "        return \"NW\"\n",
    "       \n",
    "# for testing\n",
    "# il = [(1,\"E\"),(2,\"P\"),(3,\"P\")]\n",
    "# rp = [[2,1,3],[1,2,3]]\n",
    "# cl = [0,1,0]\n",
    "# w=decide_winner_marg(il, rp, cl)\n",
    "# print(w)"
   ]
  },
  {
   "cell_type": "code",
   "execution_count": 23,
   "metadata": {},
   "outputs": [],
   "source": [
    "yandex_log = 0 # Variable containing the click log we use for determining the parameters alpha and gamma"
   ]
  },
  {
   "cell_type": "code",
   "execution_count": 122,
   "metadata": {},
   "outputs": [],
   "source": [
    "## Simulation of Interleaving Experiment\n",
    "\n",
    "# This determines the win_proportion of a single pair, while we do the interleaving and click-experiment\n",
    "# 500 times. (500 can be changed later)\n",
    "# The third argument specifies the function that determines the click_probabilities (position based or random)\n",
    "def estimate_win_proportion(ranking_pair, interleave_function, click_function, alpha, gamma, theta):\n",
    "    k = 500\n",
    "    wins_E = 0\n",
    "    wins_P = 0\n",
    "    for i in range(k):\n",
    "        interl = interleave_function(ranking_pair)\n",
    "        relevance_list = get_relevance_list([elem[0] for elem in interl])\n",
    "        if (click_function == produce_clicks):\n",
    "            clicks = click_function(relevance_list, alpha, gamma)\n",
    "        elif (click_function == produce_clicks_random):\n",
    "            clicks = click_function(relevance_list, theta)\n",
    "        winner = decide_winner(interl, clicks)\n",
    "        if (winner == \"E\"):\n",
    "            wins_E += 1\n",
    "        elif (winner == \"P\"):\n",
    "            wins_P += 1\n",
    "            \n",
    "    if (wins_E + wins_P > 0):\n",
    "        return wins_E / (wins_E + wins_P)\n",
    "    else:\n",
    "        return 0.5\n",
    "    \n",
    "    \n",
    "# Determines win proportion of experimental system based on the marginalised estimator of probabilistic interleaving\n",
    "def estimate_win_proportion_marginalised(ranking_pair, click_function, alpha, gamma, theta):\n",
    "    k = 500\n",
    "    wins_E = 0\n",
    "    wins_P = 0\n",
    "    for i in range(k):\n",
    "        # interleave \n",
    "        interl = td_interleave(ranking_pair)\n",
    "        # simulate clicks\n",
    "        relevance_list = get_relevance_list([elem[0] for elem in interl])\n",
    "        if (click_function == produce_clicks):\n",
    "            clicks = click_function(relevance_list, alpha, gamma)\n",
    "        elif (click_function == produce_clicks_random):\n",
    "            clicks = click_function(relevance_list, theta)\n",
    "        # decide winning system\n",
    "        winner = decide_winner_marg(interl, ranking_pair, clicks)\n",
    "        if (winner == \"E\"):\n",
    "            wins_E += 1\n",
    "        elif (winner == \"P\"):\n",
    "            wins_P += 1\n",
    "            \n",
    "    if (wins_E + wins_P > 0):\n",
    "        return wins_E / (wins_E + wins_P)\n",
    "    else:\n",
    "        return 0.5"
   ]
  },
  {
   "cell_type": "code",
   "execution_count": 123,
   "metadata": {},
   "outputs": [],
   "source": [
    "def compute_sample_size(p1):\n",
    "    a = 0.05\n",
    "    b = 0.1\n",
    "    p0 = 0.5\n",
    "    delta = abs(p1-p0)\n",
    "    N_intermediate = ((norm.ppf(1 - a)*math.sqrt(p0*(1-p0)) + \n",
    "                      norm.ppf(1 - b)*math.sqrt(p1*(1 - p1)))\n",
    "                      /delta)**2\n",
    "    N = N_intermediate + 1/delta\n",
    "    return math.ceil(N)"
   ]
  },
  {
   "cell_type": "code",
   "execution_count": 124,
   "metadata": {},
   "outputs": [],
   "source": [
    "###############################################\n",
    "###############################################\n",
    "# Now we have everything we need and only need to do the simulation to be done."
   ]
  },
  {
   "cell_type": "code",
   "execution_count": 138,
   "metadata": {},
   "outputs": [],
   "source": [
    "def run_interleaving_experiment(deltaERRs, estimator, interleaver, click_function, alpha, gamma, theta):\n",
    "    result = []\n",
    "    counter = 0\n",
    "    total = sum([len(d) for d in deltaERRs])\n",
    "    for i in range(len(deltaERRs)):\n",
    "        if (len(deltaERRs[i])> 0):\n",
    "            Ns = []\n",
    "            count_Ninf = 0 # counts how often N is infinite (p1<=0.5)\n",
    "            for pair in deltaERRs[i]: \n",
    "                p1 = estimator(pair, interleaver, click_function, alpha, gamma, theta)\n",
    "                counter += 1\n",
    "                if counter % 10000 == 0:\n",
    "                    print(\"{:.0f}%\".format(counter/total*100))\n",
    "                if (p1 > 0.5):\n",
    "                    Ns += [compute_sample_size(p1)]\n",
    "                else:\n",
    "                    count_Ninf += 1\n",
    "            if(len(Ns) > 0):\n",
    "                minimum = min(Ns)\n",
    "                maximum = max(Ns)\n",
    "                median = statistics.median(Ns)\n",
    "                result += [(minimum, median, maximum, count_Ninf/len(deltaERRs[i]))]\n",
    "            else:\n",
    "                result += [(None,None,None, 1)]\n",
    "        else:\n",
    "            result += [(None,None,None, None)]\n",
    "    return result"
   ]
  },
  {
   "cell_type": "code",
   "execution_count": null,
   "metadata": {},
   "outputs": [
    {
     "name": "stdout",
     "output_type": "stream",
     "text": [
      "1%\n",
      "3%\n",
      "4%\n",
      "5%\n",
      "7%\n",
      "8%\n",
      "9%\n",
      "11%\n"
     ]
    }
   ],
   "source": [
    "table = run_interleaving_experiment(deltaERRs, \n",
    "                                    estimate_win_proportion, \n",
    "                                    td_interleave, \n",
    "                                    produce_clicks, \n",
    "                                    alpha, gamma, theta)"
   ]
  },
  {
   "cell_type": "code",
   "execution_count": null,
   "metadata": {},
   "outputs": [],
   "source": [
    "for el in table:\n",
    "    print(el)"
   ]
  },
  {
   "cell_type": "code",
   "execution_count": 137,
   "metadata": {},
   "outputs": [
    {
     "name": "stdout",
     "output_type": "stream",
     "text": [
      "11\n"
     ]
    }
   ],
   "source": [
    "print(\"{:.0f}\".format(11.1))"
   ]
  }
 ],
 "metadata": {
  "kernelspec": {
   "display_name": "Python [default]",
   "language": "python",
   "name": "python3"
  },
  "language_info": {
   "codemirror_mode": {
    "name": "ipython",
    "version": 3
   },
   "file_extension": ".py",
   "mimetype": "text/x-python",
   "name": "python",
   "nbconvert_exporter": "python",
   "pygments_lexer": "ipython3",
   "version": "3.6.2"
  }
 },
 "nbformat": 4,
 "nbformat_minor": 2
}
